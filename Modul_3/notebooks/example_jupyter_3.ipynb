{
 "cells": [
  {
   "cell_type": "code",
   "execution_count": 25,
   "id": "49e852ba",
   "metadata": {},
   "outputs": [
    {
     "data": {
      "text/plain": [
       "25 to 34 years       91083\n",
       "35 to 44 years       67390\n",
       "10 to 19 years       58944\n",
       "45 to 54 years       52492\n",
       "0 to 9 years         38242\n",
       "65 to 74 years       30141\n",
       "20 to 24 years       29761\n",
       "55 to 59 years       21230\n",
       "60 to 64 years       19800\n",
       "75 years and over    14150\n",
       "Name: Age Range, dtype: int64"
      ]
     },
     "execution_count": 25,
     "metadata": {},
     "output_type": "execute_result"
    }
   ],
   "source": [
    "#Häufigkeiten\n",
    "import pandas as pd\n",
    "df = pd.read_csv(\"../data/Library_Usage.csv\")\n",
    "df['Age Range'].value_counts() #relative Häufigkeit"
   ]
  },
  {
   "cell_type": "code",
   "execution_count": 2,
   "id": "49e92e16",
   "metadata": {},
   "outputs": [
    {
     "data": {
      "text/plain": [
       "25 to 34 years       0.215208\n",
       "35 to 44 years       0.159227\n",
       "10 to 19 years       0.139271\n",
       "45 to 54 years       0.124026\n",
       "0 to 9 years         0.090357\n",
       "65 to 74 years       0.071216\n",
       "20 to 24 years       0.070318\n",
       "55 to 59 years       0.050161\n",
       "60 to 64 years       0.046783\n",
       "75 years and over    0.033433\n",
       "Name: Age Range, dtype: float64"
      ]
     },
     "execution_count": 2,
     "metadata": {},
     "output_type": "execute_result"
    }
   ],
   "source": [
    "df['Age Range'].value_counts(normalize=True) #absolute Häufigkeit"
   ]
  },
  {
   "cell_type": "code",
   "execution_count": 24,
   "id": "8a1214b0",
   "metadata": {},
   "outputs": [
    {
     "data": {
      "text/plain": [
       "2004    0.021240\n",
       "2005    0.022832\n",
       "2006    0.025448\n",
       "2007    0.031383\n",
       "2008    0.048455\n",
       "2009    0.052679\n",
       "2010    0.057436\n",
       "2016    0.062081\n",
       "2011    0.062655\n",
       "2012    0.088311\n",
       "2013    0.113948\n",
       "2014    0.122570\n",
       "2015    0.127409\n",
       "2003    0.163555\n",
       "Name: Year Patron Registered, dtype: float64"
      ]
     },
     "execution_count": 24,
     "metadata": {},
     "output_type": "execute_result"
    }
   ],
   "source": [
    "df['Year Patron Registered'].value_counts(normalize=True).sort_values(axis=0, ascending=True)\n",
    "#"
   ]
  }
 ],
 "metadata": {
  "kernelspec": {
   "display_name": "Python 3 (ipykernel)",
   "language": "python",
   "name": "python3"
  },
  "language_info": {
   "codemirror_mode": {
    "name": "ipython",
    "version": 3
   },
   "file_extension": ".py",
   "mimetype": "text/x-python",
   "name": "python",
   "nbconvert_exporter": "python",
   "pygments_lexer": "ipython3",
   "version": "3.9.7"
  }
 },
 "nbformat": 4,
 "nbformat_minor": 5
}
