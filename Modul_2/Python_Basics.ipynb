{
 "cells": [
  {
   "cell_type": "markdown",
   "id": "2253a35a",
   "metadata": {},
   "source": [
    "# Python Einführung\n",
    "\n",
    "- Stichpunkte\n",
    "- **fett** *kursiv*"
   ]
  },
  {
   "cell_type": "code",
   "execution_count": 2,
   "id": "75460ee6",
   "metadata": {},
   "outputs": [
    {
     "name": "stdout",
     "output_type": "stream",
     "text": [
      "Hello World\n"
     ]
    }
   ],
   "source": [
    "# Das ist ein Kommentar\n",
    "print (\"Hello World\")"
   ]
  },
  {
   "cell_type": "markdown",
   "id": "c454e96d",
   "metadata": {},
   "source": [
    "# Einfache Datentypen"
   ]
  },
  {
   "cell_type": "code",
   "execution_count": 5,
   "id": "01837025",
   "metadata": {},
   "outputs": [],
   "source": [
    "# Variablen & Werte zuweisen\n",
    "# String - Zeichenkette in \"\"\n",
    "name = \"Lovelace\""
   ]
  },
  {
   "cell_type": "code",
   "execution_count": 6,
   "id": "259910cf",
   "metadata": {},
   "outputs": [
    {
     "name": "stdout",
     "output_type": "stream",
     "text": [
      "Lovelace\n"
     ]
    }
   ],
   "source": [
    "print (name)"
   ]
  },
  {
   "cell_type": "code",
   "execution_count": 8,
   "id": "f26a8f26",
   "metadata": {},
   "outputs": [
    {
     "name": "stdout",
     "output_type": "stream",
     "text": [
      "37\n"
     ]
    }
   ],
   "source": [
    "# Intger - Ganzzahl ohne \"\"\n",
    "age = 37\n",
    "print (age)"
   ]
  },
  {
   "cell_type": "code",
   "execution_count": 10,
   "id": "9ebc713a",
   "metadata": {},
   "outputs": [
    {
     "name": "stdout",
     "output_type": "stream",
     "text": [
      "1.7123\n"
     ]
    }
   ],
   "source": [
    "# Float - Kommerzahlen\n",
    "size = 1.7123\n",
    "print (size)"
   ]
  },
  {
   "cell_type": "code",
   "execution_count": 11,
   "id": "86289666",
   "metadata": {},
   "outputs": [
    {
     "name": "stdout",
     "output_type": "stream",
     "text": [
      "True\n",
      "False\n"
     ]
    }
   ],
   "source": [
    "# Boolean - Bollscher Wert\n",
    "knows_math = True\n",
    "# true und false boolsche Werte, festgelegt\n",
    "print (knows_math)\n",
    "# mit Tab schon belegte Variablen vervollstänidgen lassen\n",
    "likes_gardening = False\n",
    "print (likes_gardening)"
   ]
  },
  {
   "cell_type": "code",
   "execution_count": 16,
   "id": "01923969",
   "metadata": {},
   "outputs": [
    {
     "data": {
      "text/plain": [
       "37"
      ]
     },
     "execution_count": 16,
     "metadata": {},
     "output_type": "execute_result"
    }
   ],
   "source": [
    "name\n",
    "age\n",
    "# der letzte Wert in einer Zelle wird zurückgegeben in Python nur mit print"
   ]
  },
  {
   "cell_type": "code",
   "execution_count": 20,
   "id": "955d6d42",
   "metadata": {},
   "outputs": [
    {
     "name": "stdout",
     "output_type": "stream",
     "text": [
      "Lovelace\n",
      "37\n"
     ]
    }
   ],
   "source": [
    "print(name)\n",
    "print(age)"
   ]
  },
  {
   "cell_type": "code",
   "execution_count": 18,
   "id": "f4a86acd",
   "metadata": {},
   "outputs": [],
   "source": [
    "year = \"2021\"\n",
    "# rot weil?"
   ]
  },
  {
   "cell_type": "code",
   "execution_count": 19,
   "id": "d8fbd68e",
   "metadata": {},
   "outputs": [
    {
     "data": {
      "text/plain": [
       "str"
      ]
     },
     "execution_count": 19,
     "metadata": {},
     "output_type": "execute_result"
    }
   ],
   "source": [
    "# typen anzeigen lassen\n",
    "# in anderen Sprachen als Python muss man festlegen welchen Typ eine Variable hat, bei Python ist das dynamische Typisierung\n",
    "type(year)"
   ]
  },
  {
   "cell_type": "markdown",
   "id": "3d8c87b2",
   "metadata": {},
   "source": [
    "# Operatoren"
   ]
  },
  {
   "cell_type": "code",
   "execution_count": 21,
   "id": "ac0b4fd1",
   "metadata": {},
   "outputs": [
    {
     "data": {
      "text/plain": [
       "10"
      ]
     },
     "execution_count": 21,
     "metadata": {},
     "output_type": "execute_result"
    }
   ],
   "source": [
    "# Addtionen\n",
    "5 + 5"
   ]
  },
  {
   "cell_type": "code",
   "execution_count": 22,
   "id": "c33a605d",
   "metadata": {},
   "outputs": [
    {
     "data": {
      "text/plain": [
       "3700"
      ]
     },
     "execution_count": 22,
     "metadata": {},
     "output_type": "execute_result"
    }
   ],
   "source": [
    "# Multiplizieren\n",
    "age * 100"
   ]
  },
  {
   "cell_type": "code",
   "execution_count": 25,
   "id": "f4250a5e",
   "metadata": {},
   "outputs": [
    {
     "data": {
      "text/plain": [
       "'LovelaceLovelace'"
      ]
     },
     "execution_count": 25,
     "metadata": {},
     "output_type": "execute_result"
    }
   ],
   "source": [
    "# Strings verketten / concatenate\n",
    "name + name"
   ]
  },
  {
   "cell_type": "code",
   "execution_count": 24,
   "id": "269ccce6",
   "metadata": {},
   "outputs": [
    {
     "data": {
      "text/plain": [
       "'LovelaceLovelaceLovelaceLovelaceLovelaceLovelaceLovelaceLovelaceLovelaceLovelace'"
      ]
     },
     "execution_count": 24,
     "metadata": {},
     "output_type": "execute_result"
    }
   ],
   "source": [
    "name * 10"
   ]
  },
  {
   "cell_type": "code",
   "execution_count": 26,
   "id": "2c297455",
   "metadata": {},
   "outputs": [
    {
     "ename": "TypeError",
     "evalue": "can only concatenate str (not \"int\") to str",
     "output_type": "error",
     "traceback": [
      "\u001b[0;31m---------------------------------------------------------------------------\u001b[0m",
      "\u001b[0;31mTypeError\u001b[0m                                 Traceback (most recent call last)",
      "\u001b[0;32m/tmp/ipykernel_6801/2194603926.py\u001b[0m in \u001b[0;36m<module>\u001b[0;34m\u001b[0m\n\u001b[1;32m      1\u001b[0m \u001b[0;31m# Addition von verschiedenen Datentypen geht nicht\u001b[0m\u001b[0;34m\u001b[0m\u001b[0;34m\u001b[0m\u001b[0m\n\u001b[0;32m----> 2\u001b[0;31m \u001b[0mname\u001b[0m \u001b[0;34m+\u001b[0m \u001b[0;36m10\u001b[0m\u001b[0;34m\u001b[0m\u001b[0;34m\u001b[0m\u001b[0m\n\u001b[0m",
      "\u001b[0;31mTypeError\u001b[0m: can only concatenate str (not \"int\") to str"
     ]
    }
   ],
   "source": [
    "# Addition von verschiedenen Datentypen geht nicht\n",
    "name + 10"
   ]
  },
  {
   "cell_type": "code",
   "execution_count": 28,
   "id": "4b1e37f7",
   "metadata": {},
   "outputs": [
    {
     "data": {
      "text/plain": [
       "'Lovelace10'"
      ]
     },
     "execution_count": 28,
     "metadata": {},
     "output_type": "execute_result"
    }
   ],
   "source": [
    "# wenn ich Zahl als String angebe wird wieder concatenated\n",
    "name + \"10\""
   ]
  },
  {
   "cell_type": "code",
   "execution_count": 30,
   "id": "0ee4a864",
   "metadata": {},
   "outputs": [
    {
     "data": {
      "text/plain": [
       "0.04627837837837838"
      ]
     },
     "execution_count": 30,
     "metadata": {},
     "output_type": "execute_result"
    }
   ],
   "source": [
    "# Dividieren\n",
    "size / age"
   ]
  },
  {
   "cell_type": "code",
   "execution_count": 31,
   "id": "a0b1fd21",
   "metadata": {},
   "outputs": [],
   "source": [
    "number_of_articles = \"50\""
   ]
  },
  {
   "cell_type": "code",
   "execution_count": 32,
   "id": "d229c3d9",
   "metadata": {},
   "outputs": [
    {
     "ename": "TypeError",
     "evalue": "unsupported operand type(s) for /: 'str' and 'int'",
     "output_type": "error",
     "traceback": [
      "\u001b[0;31m---------------------------------------------------------------------------\u001b[0m",
      "\u001b[0;31mTypeError\u001b[0m                                 Traceback (most recent call last)",
      "\u001b[0;32m/tmp/ipykernel_6801/3479291318.py\u001b[0m in \u001b[0;36m<module>\u001b[0;34m\u001b[0m\n\u001b[1;32m      1\u001b[0m \u001b[0;31m# was nicht funktioniert\u001b[0m\u001b[0;34m\u001b[0m\u001b[0;34m\u001b[0m\u001b[0m\n\u001b[0;32m----> 2\u001b[0;31m \u001b[0mnumber_of_articles\u001b[0m \u001b[0;34m/\u001b[0m \u001b[0;36m10\u001b[0m\u001b[0;34m\u001b[0m\u001b[0;34m\u001b[0m\u001b[0m\n\u001b[0m",
      "\u001b[0;31mTypeError\u001b[0m: unsupported operand type(s) for /: 'str' and 'int'"
     ]
    }
   ],
   "source": [
    "# was nicht funktioniert\n",
    "number_of_articles / 10"
   ]
  },
  {
   "cell_type": "code",
   "execution_count": 34,
   "id": "5e6547b3",
   "metadata": {},
   "outputs": [
    {
     "ename": "SyntaxError",
     "evalue": "invalid syntax (1654333612.py, line 3)",
     "output_type": "error",
     "traceback": [
      "\u001b[0;36m  File \u001b[0;32m\"/tmp/ipykernel_6801/1654333612.py\"\u001b[0;36m, line \u001b[0;32m3\u001b[0m\n\u001b[0;31m    int (number_of_articles_) 7 10\u001b[0m\n\u001b[0m                              ^\u001b[0m\n\u001b[0;31mSyntaxError\u001b[0m\u001b[0;31m:\u001b[0m invalid syntax\n"
     ]
    }
   ],
   "source": [
    "# umwandeln von wert in string in wert integer, funktioniert nur wenn String eine Zal ist\n",
    "# sonst variable in der Zelle drüber ändern und Zelle ausführen\n",
    "int (number_of_articles_) 7 10"
   ]
  },
  {
   "cell_type": "markdown",
   "id": "14b38283",
   "metadata": {},
   "source": [
    "# Funktionen und Methoden"
   ]
  },
  {
   "cell_type": "code",
   "execution_count": 35,
   "id": "c3680988",
   "metadata": {},
   "outputs": [
    {
     "data": {
      "text/plain": [
       "8"
      ]
     },
     "execution_count": 35,
     "metadata": {},
     "output_type": "execute_result"
    }
   ],
   "source": [
    "# Länge z.B. von Variablen\n",
    "len(name)"
   ]
  },
  {
   "cell_type": "code",
   "execution_count": 40,
   "id": "5cd2a582",
   "metadata": {},
   "outputs": [
    {
     "data": {
      "text/plain": [
       "'LOVELACE'"
      ]
     },
     "execution_count": 40,
     "metadata": {},
     "output_type": "execute_result"
    }
   ],
   "source": [
    "# Methoden funktionieren auch so, um z.B. Variablen zu verändern, aber nicht deren Wert\n",
    "name.upper()"
   ]
  },
  {
   "cell_type": "code",
   "execution_count": 41,
   "id": "3b3a037b",
   "metadata": {},
   "outputs": [
    {
     "data": {
      "text/plain": [
       "'Lovelace'"
      ]
     },
     "execution_count": 41,
     "metadata": {},
     "output_type": "execute_result"
    }
   ],
   "source": [
    "name"
   ]
  },
  {
   "cell_type": "code",
   "execution_count": 42,
   "id": "234d2e2c",
   "metadata": {},
   "outputs": [
    {
     "data": {
      "text/plain": [
       "2"
      ]
     },
     "execution_count": 42,
     "metadata": {},
     "output_type": "execute_result"
    }
   ],
   "source": [
    "name.count(\"e\")"
   ]
  },
  {
   "cell_type": "code",
   "execution_count": 43,
   "id": "e64e593d",
   "metadata": {},
   "outputs": [],
   "source": [
    "dna = \"ACTGgGCAA\""
   ]
  },
  {
   "cell_type": "code",
   "execution_count": 44,
   "id": "33d150bb",
   "metadata": {},
   "outputs": [
    {
     "data": {
      "text/plain": [
       "2"
      ]
     },
     "execution_count": 44,
     "metadata": {},
     "output_type": "execute_result"
    }
   ],
   "source": [
    "dna.count (\"G\")"
   ]
  },
  {
   "cell_type": "code",
   "execution_count": 45,
   "id": "d05b95a7",
   "metadata": {},
   "outputs": [
    {
     "data": {
      "text/plain": [
       "3"
      ]
     },
     "execution_count": 45,
     "metadata": {},
     "output_type": "execute_result"
    }
   ],
   "source": [
    "dna.upper().count(\"G\")"
   ]
  },
  {
   "cell_type": "code",
   "execution_count": 46,
   "id": "ea82bab9",
   "metadata": {},
   "outputs": [
    {
     "data": {
      "text/plain": [
       "3"
      ]
     },
     "execution_count": 46,
     "metadata": {},
     "output_type": "execute_result"
    }
   ],
   "source": [
    "\"ACTGgGAA\".upper().count(\"G\")"
   ]
  },
  {
   "cell_type": "code",
   "execution_count": 47,
   "id": "4179be79",
   "metadata": {},
   "outputs": [
    {
     "data": {
      "text/plain": [
       "'Love is everywehre'"
      ]
     },
     "execution_count": 47,
     "metadata": {},
     "output_type": "execute_result"
    }
   ],
   "source": [
    "# Methode mit 2 Argumenten\n",
    "name.replace(\"lace\",\" is everywehre\")"
   ]
  },
  {
   "cell_type": "code",
   "execution_count": 48,
   "id": "9692f360",
   "metadata": {},
   "outputs": [
    {
     "data": {
      "text/plain": [
       "'Lovelace'"
      ]
     },
     "execution_count": 48,
     "metadata": {},
     "output_type": "execute_result"
    }
   ],
   "source": [
    "name"
   ]
  },
  {
   "cell_type": "markdown",
   "id": "462c4f63",
   "metadata": {},
   "source": [
    "# Listen und Dictionaries"
   ]
  },
  {
   "cell_type": "code",
   "execution_count": 49,
   "id": "8654b181",
   "metadata": {},
   "outputs": [],
   "source": [
    "# Listen mit mehreren Elementen\n",
    "names = [\"Lovelace\",\"Darwin\",\"Curie\",\"Hawking\"]"
   ]
  },
  {
   "cell_type": "code",
   "execution_count": 51,
   "id": "3d7b27a2",
   "metadata": {},
   "outputs": [
    {
     "data": {
      "text/plain": [
       "'Lovelace'"
      ]
     },
     "execution_count": 51,
     "metadata": {},
     "output_type": "execute_result"
    }
   ],
   "source": [
    "# einezelne Werte aus Liste wieder geben in [] Position, in der Informatik oft Zählung Anfnag bei 0\n",
    "names[0]"
   ]
  },
  {
   "cell_type": "code",
   "execution_count": 52,
   "id": "e1b4ebb0",
   "metadata": {},
   "outputs": [
    {
     "data": {
      "text/plain": [
       "'Darwin'"
      ]
     },
     "execution_count": 52,
     "metadata": {},
     "output_type": "execute_result"
    }
   ],
   "source": [
    "names[1]"
   ]
  },
  {
   "cell_type": "code",
   "execution_count": 53,
   "id": "daf642e4",
   "metadata": {},
   "outputs": [
    {
     "data": {
      "text/plain": [
       "'Hawking'"
      ]
     },
     "execution_count": 53,
     "metadata": {},
     "output_type": "execute_result"
    }
   ],
   "source": [
    "# letztes Element\n",
    "names[-1]"
   ]
  },
  {
   "cell_type": "code",
   "execution_count": 54,
   "id": "7669b08f",
   "metadata": {},
   "outputs": [
    {
     "data": {
      "text/plain": [
       "['Lovelace', 'Darwin', 'Curie']"
      ]
     },
     "execution_count": 54,
     "metadata": {},
     "output_type": "execute_result"
    }
   ],
   "source": [
    "# mehrer Elemente von : bis\n",
    "names[0:3] "
   ]
  },
  {
   "cell_type": "code",
   "execution_count": 55,
   "id": "6da93b9f",
   "metadata": {},
   "outputs": [
    {
     "data": {
      "text/plain": [
       "['Lovelace', 'Darwin']"
      ]
     },
     "execution_count": 55,
     "metadata": {},
     "output_type": "execute_result"
    }
   ],
   "source": [
    "names[:2]"
   ]
  },
  {
   "cell_type": "code",
   "execution_count": 56,
   "id": "d425e8c5",
   "metadata": {},
   "outputs": [
    {
     "data": {
      "text/plain": [
       "['Curie', 'Hawking']"
      ]
     },
     "execution_count": 56,
     "metadata": {},
     "output_type": "execute_result"
    }
   ],
   "source": [
    "# ertse Element inklusiv, letzes Element exclusiv ??\n",
    "names[2:]"
   ]
  },
  {
   "cell_type": "markdown",
   "id": "35692ae9",
   "metadata": {},
   "source": [
    "# Dictionaries\n",
    "Ich kann eine Sache nach schauen und bekomme eine Difinition bzw. in Python einen Wert\n",
    "Schlüssel müssen gleicheindeutig sein (können nicht mehrfach verwendet werden --> überschrieben), Werte können unterschielich sein, mehrfach vorkommen z.B. Lovelace und Hawking hätten dasselbe Gbeurtsjahr"
   ]
  },
  {
   "cell_type": "code",
   "execution_count": 57,
   "id": "0d32b2bb",
   "metadata": {},
   "outputs": [],
   "source": [
    "authors_and_birth_year = {\"Lovelace\": 1815, \"Darwin\": 1809, \"Noether\": 1882, \"Hawking\": 1942}\n",
    "# Schlüssel/key: Wert des Autors, Wert: das Geburtsjahr"
   ]
  },
  {
   "cell_type": "code",
   "execution_count": 58,
   "id": "5852a028",
   "metadata": {},
   "outputs": [
    {
     "data": {
      "text/plain": [
       "1815"
      ]
     },
     "execution_count": 58,
     "metadata": {},
     "output_type": "execute_result"
    }
   ],
   "source": [
    "authors_and_birth_year[\"Lovelace\"]"
   ]
  },
  {
   "cell_type": "code",
   "execution_count": 59,
   "id": "eeaefe26",
   "metadata": {},
   "outputs": [
    {
     "ename": "KeyError",
     "evalue": "'LOVELACE'",
     "output_type": "error",
     "traceback": [
      "\u001b[0;31m---------------------------------------------------------------------------\u001b[0m",
      "\u001b[0;31mKeyError\u001b[0m                                  Traceback (most recent call last)",
      "\u001b[0;32m/tmp/ipykernel_6801/3566323080.py\u001b[0m in \u001b[0;36m<module>\u001b[0;34m\u001b[0m\n\u001b[0;32m----> 1\u001b[0;31m \u001b[0mauthors_and_birth_year\u001b[0m\u001b[0;34m[\u001b[0m\u001b[0;34m\"LOVELACE\"\u001b[0m\u001b[0;34m]\u001b[0m\u001b[0;34m\u001b[0m\u001b[0;34m\u001b[0m\u001b[0m\n\u001b[0m",
      "\u001b[0;31mKeyError\u001b[0m: 'LOVELACE'"
     ]
    }
   ],
   "source": [
    "authors_and_birth_year[\"LOVELACE\"]"
   ]
  },
  {
   "cell_type": "code",
   "execution_count": 60,
   "id": "5bbc3e38",
   "metadata": {},
   "outputs": [],
   "source": [
    "authors_and_birth_year = {\"Lovelace\": 1815, \"Darwin\": 1809, \"Noether\": 1882, \"Hawking\": 1942}"
   ]
  },
  {
   "cell_type": "code",
   "execution_count": 61,
   "id": "5dddcfcb",
   "metadata": {},
   "outputs": [],
   "source": [
    "# Key Darwin verweist auf eine Liste von Werten\n",
    "authors_and_birth_year = {\"Lovelace\": 1815, \"Darwin\": [1809, 1810], \"Noether\": 1882, \"Hawking\": 1942}"
   ]
  },
  {
   "cell_type": "code",
   "execution_count": 62,
   "id": "7018e24c",
   "metadata": {},
   "outputs": [
    {
     "data": {
      "text/plain": [
       "[1809, 1810]"
      ]
     },
     "execution_count": 62,
     "metadata": {},
     "output_type": "execute_result"
    }
   ],
   "source": [
    "authors_and_birth_year[\"Darwin\"]"
   ]
  },
  {
   "cell_type": "code",
   "execution_count": 63,
   "id": "29ff7570",
   "metadata": {},
   "outputs": [
    {
     "data": {
      "text/plain": [
       "1810"
      ]
     },
     "execution_count": 63,
     "metadata": {},
     "output_type": "execute_result"
    }
   ],
   "source": [
    "authors_and_birth_year[\"Darwin\"][1]"
   ]
  },
  {
   "cell_type": "code",
   "execution_count": 7,
   "id": "ed3be509",
   "metadata": {},
   "outputs": [],
   "source": [
    "authors_and_birth_year = {\"Lovelace\": 1815, \n",
    "                          \"Darwin\": [1809, 1810, {\"London\":1910, \"Greenwich\":1911}],\n",
    "                          \"Noether\": 1882,\n",
    "                          \"Hawking\": 1942}"
   ]
  },
  {
   "cell_type": "code",
   "execution_count": 74,
   "id": "ad268ce1",
   "metadata": {},
   "outputs": [
    {
     "data": {
      "text/plain": [
       "1910"
      ]
     },
     "execution_count": 74,
     "metadata": {},
     "output_type": "execute_result"
    }
   ],
   "source": [
    "authors_and_birth_year[\"Darwin\"][2][\"London\"]"
   ]
  },
  {
   "cell_type": "code",
   "execution_count": 8,
   "id": "dea33cc1",
   "metadata": {},
   "outputs": [
    {
     "data": {
      "text/plain": [
       "[1809, 1810, {'London': 1910, 'Greenwich': 1911}]"
      ]
     },
     "execution_count": 8,
     "metadata": {},
     "output_type": "execute_result"
    }
   ],
   "source": [
    "authors_and_birth_year[\"Darwin\"]"
   ]
  },
  {
   "cell_type": "code",
   "execution_count": 9,
   "id": "359bec77",
   "metadata": {},
   "outputs": [],
   "source": [
    "temp_list = authors_and_birth_year [\"Darwin\"]"
   ]
  },
  {
   "cell_type": "code",
   "execution_count": 11,
   "id": "80ed8d0c",
   "metadata": {},
   "outputs": [],
   "source": [
    "temp_dict = temp_list [2]"
   ]
  },
  {
   "cell_type": "code",
   "execution_count": 13,
   "id": "0d4aa99c",
   "metadata": {},
   "outputs": [
    {
     "data": {
      "text/plain": [
       "{'London': 1910, 'Greenwich': 1911}"
      ]
     },
     "execution_count": 13,
     "metadata": {},
     "output_type": "execute_result"
    }
   ],
   "source": [
    "temp_dict"
   ]
  },
  {
   "cell_type": "code",
   "execution_count": 15,
   "id": "3a11b9e6",
   "metadata": {},
   "outputs": [
    {
     "data": {
      "text/plain": [
       "1910"
      ]
     },
     "execution_count": 15,
     "metadata": {},
     "output_type": "execute_result"
    }
   ],
   "source": [
    "temp_dict [\"London\"]"
   ]
  },
  {
   "cell_type": "code",
   "execution_count": 17,
   "id": "31d98411",
   "metadata": {},
   "outputs": [
    {
     "data": {
      "text/plain": [
       "1911"
      ]
     },
     "execution_count": 17,
     "metadata": {},
     "output_type": "execute_result"
    }
   ],
   "source": [
    "authors_and_birth_year [\"Darwin\"][2][\"Greenwich\"]"
   ]
  },
  {
   "cell_type": "markdown",
   "id": "32e70c7a",
   "metadata": {},
   "source": [
    "# for-Schleifen"
   ]
  },
  {
   "cell_type": "code",
   "execution_count": null,
   "id": "bbba2ba9",
   "metadata": {},
   "outputs": [],
   "source": [
    "names = [\"Lovelace\", \"Darwin\", \"Noether\", \"Hawking\"]"
   ]
  },
  {
   "cell_type": "code",
   "execution_count": 67,
   "id": "3bd6699c",
   "metadata": {},
   "outputs": [
    {
     "name": "stdout",
     "output_type": "stream",
     "text": [
      "Lovelacedid awesome stuff!\n",
      "Darwindid awesome stuff!\n",
      "Curiedid awesome stuff!\n",
      "Hawkingdid awesome stuff!\n"
     ]
    }
   ],
   "source": [
    "for person in names:\n",
    "    print(person+\"did awesome stuff!\")"
   ]
  },
  {
   "cell_type": "code",
   "execution_count": 78,
   "id": "49792089",
   "metadata": {},
   "outputs": [
    {
     "name": "stdout",
     "output_type": "stream",
     "text": [
      "Lovelacedid awesome stuff!\n",
      "---------\n",
      "Darwindid awesome stuff!\n",
      "---------\n",
      "Curiedid awesome stuff!\n",
      "---------\n",
      "Hawkingdid awesome stuff!\n",
      "---------\n"
     ]
    }
   ],
   "source": [
    "for person in names:\n",
    "    print(person+\"did awesome stuff!\")\n",
    "    print (\"---------\")"
   ]
  },
  {
   "cell_type": "code",
   "execution_count": 80,
   "id": "db1d9fb0",
   "metadata": {},
   "outputs": [
    {
     "name": "stdout",
     "output_type": "stream",
     "text": [
      "Lovelacedid awesome stuff!\n",
      "Darwindid awesome stuff!\n",
      "Curiedid awesome stuff!\n",
      "Hawkingdid awesome stuff!\n",
      "---------\n"
     ]
    }
   ],
   "source": [
    "# 2. print aus der Schleife, muss eingerückt sein (Lesbarkeit), Einrücken in Python syntaktisches Element\n",
    "for person in names:\n",
    "    print(person+\"did awesome stuff!\")\n",
    "print (\"---------\")"
   ]
  },
  {
   "cell_type": "code",
   "execution_count": 81,
   "id": "13379503",
   "metadata": {},
   "outputs": [
    {
     "name": "stdout",
     "output_type": "stream",
     "text": [
      "The Zen of Python, by Tim Peters\n",
      "\n",
      "Beautiful is better than ugly.\n",
      "Explicit is better than implicit.\n",
      "Simple is better than complex.\n",
      "Complex is better than complicated.\n",
      "Flat is better than nested.\n",
      "Sparse is better than dense.\n",
      "Readability counts.\n",
      "Special cases aren't special enough to break the rules.\n",
      "Although practicality beats purity.\n",
      "Errors should never pass silently.\n",
      "Unless explicitly silenced.\n",
      "In the face of ambiguity, refuse the temptation to guess.\n",
      "There should be one-- and preferably only one --obvious way to do it.\n",
      "Although that way may not be obvious at first unless you're Dutch.\n",
      "Now is better than never.\n",
      "Although never is often better than *right* now.\n",
      "If the implementation is hard to explain, it's a bad idea.\n",
      "If the implementation is easy to explain, it may be a good idea.\n",
      "Namespaces are one honking great idea -- let's do more of those!\n"
     ]
    }
   ],
   "source": [
    "import this"
   ]
  },
  {
   "cell_type": "markdown",
   "id": "598d06b0",
   "metadata": {},
   "source": [
    "# Bedingte Anweisungen (Conditionals)"
   ]
  },
  {
   "cell_type": "code",
   "execution_count": 82,
   "id": "3c98e72b",
   "metadata": {},
   "outputs": [
    {
     "data": {
      "text/plain": [
       "True"
      ]
     },
     "execution_count": 82,
     "metadata": {},
     "output_type": "execute_result"
    }
   ],
   "source": [
    "20>10"
   ]
  },
  {
   "cell_type": "code",
   "execution_count": 83,
   "id": "d21ca3cf",
   "metadata": {},
   "outputs": [
    {
     "data": {
      "text/plain": [
       "False"
      ]
     },
     "execution_count": 83,
     "metadata": {},
     "output_type": "execute_result"
    }
   ],
   "source": [
    "20<10"
   ]
  },
  {
   "cell_type": "code",
   "execution_count": 84,
   "id": "a4c18777",
   "metadata": {},
   "outputs": [
    {
     "name": "stdout",
     "output_type": "stream",
     "text": [
      "It's warm.\n"
     ]
    }
   ],
   "source": [
    "temp = 20\n",
    "if temp > 15:\n",
    "    print (\"It's warm.\")"
   ]
  },
  {
   "cell_type": "code",
   "execution_count": 85,
   "id": "b6e9bb55",
   "metadata": {},
   "outputs": [],
   "source": [
    "temp = 5\n",
    "if temp > 15:\n",
    "    print (\"It's warm.\") #nur wenn wahr ausgegeben"
   ]
  },
  {
   "cell_type": "code",
   "execution_count": 87,
   "id": "84354bc5",
   "metadata": {},
   "outputs": [
    {
     "name": "stdout",
     "output_type": "stream",
     "text": [
      "It's warm.\n"
     ]
    }
   ],
   "source": [
    "temp = 15\n",
    "if temp >= 15: #größergleich, muss dann auch so angegeben werden\n",
    "    print (\"It's warm.\")"
   ]
  },
  {
   "cell_type": "code",
   "execution_count": 88,
   "id": "b7e5d826",
   "metadata": {},
   "outputs": [
    {
     "name": "stdout",
     "output_type": "stream",
     "text": [
      "It's warm.\n"
     ]
    }
   ],
   "source": [
    "    temp = 15\n",
    "    if temp >= 15: #größergleich, muss dann auch so angegeben werden\n",
    "        print (\"It's warm.\")\n",
    "    else: \n",
    "        print(\"It's cold.\")"
   ]
  },
  {
   "cell_type": "code",
   "execution_count": 89,
   "id": "1070a352",
   "metadata": {},
   "outputs": [
    {
     "name": "stdout",
     "output_type": "stream",
     "text": [
      "It's cold.\n"
     ]
    }
   ],
   "source": [
    "temp = 9\n",
    "if temp >= 15: #größergleich, muss dann auch so angegeben werden\n",
    "    print (\"It's warm.\")\n",
    "else: \n",
    "    print(\"It's cold.\")"
   ]
  },
  {
   "cell_type": "code",
   "execution_count": 91,
   "id": "759d7756",
   "metadata": {},
   "outputs": [
    {
     "name": "stdout",
     "output_type": "stream",
     "text": [
      "It's hot.\n"
     ]
    }
   ],
   "source": [
    "temp = 25\n",
    "if temp >= 25:\n",
    "    print (\"It's hot.\")\n",
    "elif temp >=15:\n",
    "    print (\"It's warm.\")\n",
    "else:\n",
    "    print (\"It's cold.\")\n",
    "# die Abzweigung die zu erst kommt wird genutzt"
   ]
  },
  {
   "cell_type": "code",
   "execution_count": 92,
   "id": "60adf9a7",
   "metadata": {},
   "outputs": [
    {
     "name": "stdout",
     "output_type": "stream",
     "text": [
      "It's warm.\n"
     ]
    }
   ],
   "source": [
    "temp = 24\n",
    "if temp >= 25:\n",
    "    print (\"It's hot.\")\n",
    "elif temp >=15:\n",
    "    print (\"It's warm.\")\n",
    "else:\n",
    "    print (\"It's cold.\")"
   ]
  },
  {
   "cell_type": "code",
   "execution_count": 93,
   "id": "14d30304",
   "metadata": {},
   "outputs": [
    {
     "name": "stdout",
     "output_type": "stream",
     "text": [
      "It's cold.\n"
     ]
    }
   ],
   "source": [
    "temp = 14\n",
    "if temp >= 25:\n",
    "    print (\"It's hot.\")\n",
    "elif temp >=15:\n",
    "    print (\"It's warm.\")\n",
    "else:\n",
    "    print (\"It's cold.\")\n"
   ]
  },
  {
   "cell_type": "code",
   "execution_count": null,
   "id": "fc8e4810",
   "metadata": {},
   "outputs": [],
   "source": [
    "Erstelle eine Liste mit allen Namen aus eurer Gruppe. \n",
    "Baut eine For-Schleife, die auf die Liste zurückgreift \n",
    "und für jede Person das Lieblingsessen zurückgibt.\n",
    "Beispiel \"Rabeas Lieblingsessen ist Lasagne\"\n",
    "Dictionary und for Loops"
   ]
  },
  {
   "cell_type": "code",
   "execution_count": 5,
   "id": "7f0e77af",
   "metadata": {},
   "outputs": [],
   "source": [
    "names_1 = [ \"Linda\", \"Laura\", \"Michael\"]\n",
    "names_DL_and_food={\"Laura\": \"Lasagne\", \"Linda\": \"Pizza\", \"Michael\": \"Pasta\"}"
   ]
  },
  {
   "cell_type": "code",
   "execution_count": 20,
   "id": "4d98233b",
   "metadata": {},
   "outputs": [
    {
     "name": "stdout",
     "output_type": "stream",
     "text": [
      "Linda isst gerne Pizza\n",
      "Laura isst gerne Lasagne\n",
      "Michael isst gerne Pasta\n"
     ]
    }
   ],
   "source": [
    "for person in names_1:\n",
    "    print (person+ \" isst gerne \" +names_DL_and_food[person])"
   ]
  },
  {
   "cell_type": "code",
   "execution_count": 22,
   "id": "a319c1f0",
   "metadata": {},
   "outputs": [
    {
     "name": "stdout",
     "output_type": "stream",
     "text": [
      "Laura isst gerne Lasagne\n",
      "Linda isst gerne Pizza\n",
      "Michael isst gerne Pasta\n"
     ]
    }
   ],
   "source": [
    "for person in names_DL_and_food:\n",
    "    print (person+\" isst gerne \"+ names_DL_and_food[person])"
   ]
  },
  {
   "cell_type": "code",
   "execution_count": 24,
   "id": "9be14cd7",
   "metadata": {},
   "outputs": [
    {
     "name": "stdout",
     "output_type": "stream",
     "text": [
      "Laura\n",
      "Linda\n",
      "Michael\n"
     ]
    }
   ],
   "source": [
    "for person in names_DL_and_food.keys():\n",
    "    print (person)"
   ]
  },
  {
   "cell_type": "code",
   "execution_count": 25,
   "id": "87bdfc3f",
   "metadata": {},
   "outputs": [
    {
     "data": {
      "text/plain": [
       "dict_keys(['Laura', 'Linda', 'Michael'])"
      ]
     },
     "execution_count": 25,
     "metadata": {},
     "output_type": "execute_result"
    }
   ],
   "source": [
    "names_DL_and_food.keys()"
   ]
  },
  {
   "cell_type": "code",
   "execution_count": 27,
   "id": "056b26df",
   "metadata": {},
   "outputs": [
    {
     "data": {
      "text/plain": [
       "dict_values(['Lasagne', 'Pizza', 'Pasta'])"
      ]
     },
     "execution_count": 27,
     "metadata": {},
     "output_type": "execute_result"
    }
   ],
   "source": [
    "names_DL_and_food.values()"
   ]
  },
  {
   "cell_type": "code",
   "execution_count": 31,
   "id": "074512c4",
   "metadata": {},
   "outputs": [
    {
     "name": "stdout",
     "output_type": "stream",
     "text": [
      "Laura mag gerne Lasagne\n",
      "Linda mag gerne Pizza\n",
      "Michael mag gerne Pasta\n"
     ]
    }
   ],
   "source": [
    "for person in names_DL_and_food.keys():\n",
    "    print (person + \" mag gerne \" + names_DL_and_food[person])\n",
    "    #[person] verweist auf schlüssel dessen wert wieder gegeben werden\n",
    "    # in for schleife person als Schlüssel für dictionary-schlüssel definiert"
   ]
  },
  {
   "cell_type": "code",
   "execution_count": null,
   "id": "bf260086",
   "metadata": {},
   "outputs": [],
   "source": []
  }
 ],
 "metadata": {
  "kernelspec": {
   "display_name": "Python 3 (ipykernel)",
   "language": "python",
   "name": "python3"
  },
  "language_info": {
   "codemirror_mode": {
    "name": "ipython",
    "version": 3
   },
   "file_extension": ".py",
   "mimetype": "text/x-python",
   "name": "python",
   "nbconvert_exporter": "python",
   "pygments_lexer": "ipython3",
   "version": "3.9.7"
  }
 },
 "nbformat": 4,
 "nbformat_minor": 5
}
