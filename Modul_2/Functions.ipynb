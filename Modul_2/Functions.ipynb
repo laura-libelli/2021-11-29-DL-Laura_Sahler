{
 "cells": [
  {
   "cell_type": "code",
   "execution_count": 1,
   "id": "5a3d17c6",
   "metadata": {},
   "outputs": [],
   "source": [
    "dirty_isbns = [\n",
    "    \" ISBN 978-3-518-58773-7 \", \n",
    "    \"ISBN___978-1491946008 \",\n",
    "    \"ISBN 978-1593276034\"]"
   ]
  },
  {
   "cell_type": "code",
   "execution_count": 3,
   "id": "f06946a8",
   "metadata": {},
   "outputs": [],
   "source": [
    "#eigne Funktion schreiben\n",
    "# def keyword neue Funktion einleitet\n",
    "def clean_isbn():\n",
    "    isbn= \"ISBN 978-3-518-58773-7 \"\n",
    "    print (isbn)"
   ]
  },
  {
   "cell_type": "code",
   "execution_count": 4,
   "id": "b5211cc3",
   "metadata": {},
   "outputs": [
    {
     "name": "stdout",
     "output_type": "stream",
     "text": [
      "ISBN 978-3-518-58773-7 \n"
     ]
    }
   ],
   "source": [
    "# funktion difiniert aber noch nicht ausgeführt\n",
    "#dafür müssen wir sie ausführen\n",
    "clean_isbn()"
   ]
  },
  {
   "cell_type": "code",
   "execution_count": 6,
   "id": "83f7eda3",
   "metadata": {},
   "outputs": [
    {
     "name": "stdout",
     "output_type": "stream",
     "text": [
      "ISBN 978-3-518-58773-7\n"
     ]
    }
   ],
   "source": [
    "def clean_isbn():\n",
    "    isbn= \"ISBN 978-3-518-58773-7 \"\n",
    "    isbn= isbn.strip() #variable mit dem neuen Wert der \n",
    "    # der zurückgeben wird überschreiben\n",
    "    print (isbn)\n",
    "\n",
    "clean_isbn()"
   ]
  },
  {
   "cell_type": "code",
   "execution_count": 8,
   "id": "4e58b734",
   "metadata": {},
   "outputs": [
    {
     "name": "stdout",
     "output_type": "stream",
     "text": [
      "=>978-3-518-58773-7<=\n"
     ]
    }
   ],
   "source": [
    "def clean_isbn():\n",
    "    isbn= \"ISBN 978-3-518-58773-7 \"\n",
    "    isbn= isbn.replace (\"ISBN\", \"\")# ersetzte ISBN mit nichts \"\"\n",
    "    #dann erst strip\n",
    "    isbn= isbn.strip()\n",
    "    print (\"=>\" + isbn + \"<=\")\n",
    "\n",
    "clean_isbn() #hard gecodet wie soft?"
   ]
  },
  {
   "cell_type": "code",
   "execution_count": 12,
   "id": "c9d7c493",
   "metadata": {},
   "outputs": [
    {
     "name": "stdout",
     "output_type": "stream",
     "text": [
      "978-3-518-58773-7\n"
     ]
    }
   ],
   "source": [
    "#soft code\n",
    "def clean_isbn(isbn):\n",
    "    #klammer ausfüllen bei def, funktion weiß sie bekommt arguemnt\n",
    "    isbn= isbn.replace (\"ISBN\", \"\")# ersetzte ISBN mit nichts \"\"\n",
    "    #dann erst strip\n",
    "    isbn= isbn.strip()\n",
    "    print (isbn)\n",
    "\n",
    "clean_isbn(\"ISBN 978-3-518-58773-7 \")"
   ]
  },
  {
   "cell_type": "code",
   "execution_count": 13,
   "id": "016b14c9",
   "metadata": {},
   "outputs": [
    {
     "name": "stdout",
     "output_type": "stream",
     "text": [
      "BLAL KANKA\n"
     ]
    }
   ],
   "source": [
    "#kann ich ketzt nachnutzen\n",
    "clean_isbn (\" ISBN BLAL KANKA\")"
   ]
  },
  {
   "cell_type": "code",
   "execution_count": 20,
   "id": "8745c708",
   "metadata": {},
   "outputs": [],
   "source": [
    "def clean_isbn(isbn):\n",
    "    #klammer ausfüllen bei def, funktion weiß sie bekommt arguemnt\n",
    "    isbn= isbn.replace (\"ISBN\", \"\")# ersetzte ISBN mit nichts \"\"\n",
    "    #dann erst strip\n",
    "    isbn= isbn.strip()\n",
    "    return isbn # funktion gibt mir wert zurück den ich abspeichern kann\n",
    "\n",
    "cleaned_isbn = clean_isbn(\"ISBN 978-3-518-58773-7 \")\n",
    "#in cleaned_isbn zurück & speichern"
   ]
  },
  {
   "cell_type": "code",
   "execution_count": 22,
   "id": "26f8ab73",
   "metadata": {},
   "outputs": [
    {
     "data": {
      "text/plain": [
       "'blab bla bla'"
      ]
     },
     "execution_count": 22,
     "metadata": {},
     "output_type": "execute_result"
    }
   ],
   "source": [
    "clean_isbn(\" ISBN blab bla bla \")"
   ]
  },
  {
   "cell_type": "code",
   "execution_count": null,
   "id": "114306a4",
   "metadata": {},
   "outputs": [],
   "source": []
  }
 ],
 "metadata": {
  "kernelspec": {
   "display_name": "Python 3 (ipykernel)",
   "language": "python",
   "name": "python3"
  },
  "language_info": {
   "codemirror_mode": {
    "name": "ipython",
    "version": 3
   },
   "file_extension": ".py",
   "mimetype": "text/x-python",
   "name": "python",
   "nbconvert_exporter": "python",
   "pygments_lexer": "ipython3",
   "version": "3.9.7"
  }
 },
 "nbformat": 4,
 "nbformat_minor": 5
}
